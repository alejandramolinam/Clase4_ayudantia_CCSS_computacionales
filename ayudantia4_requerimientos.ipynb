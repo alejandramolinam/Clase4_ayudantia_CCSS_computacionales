{
 "cells": [
  {
   "cell_type": "code",
   "execution_count": null,
   "metadata": {},
   "outputs": [],
   "source": [
    "# INSTALL PACKAGES: \n",
    "\n",
    "%pip install pandas\n",
    "%pip install numpy\n",
    "%pip install numpyencoder \n",
    "%pip install unicodedata \n",
    "%pip install datetime\n",
    "%pip install matplotlib\n",
    "%pip install scikit-learn\n",
    "%pip install scipy\n",
    "%pip install nltk\n",
    "%pip install operator\n",
    "%pip install gensim\n",
    "%pip install spacy\n",
    "%pip install es_core_news_sm"
   ]
  },
  {
   "cell_type": "code",
   "execution_count": null,
   "metadata": {},
   "outputs": [],
   "source": [
    "##imports##\n",
    "import pandas as pd\n",
    "import numpy as np\n",
    "import json\n",
    "import os\n",
    "from random import sample \n",
    "from numpyencoder import NumpyEncoder\n",
    "import math\n",
    "from unicodedata import normalize\n",
    "from datetime import datetime  \n",
    "from datetime import timedelta  \n",
    "import matplotlib.pyplot as plt\n",
    "from sklearn.feature_extraction.text import TfidfVectorizer\n",
    "import re\n",
    "from scipy.sparse import csr_matrix\n",
    "\n",
    "# NLTK Stop words\n",
    "import nltk\n",
    "import nltk; nltk.download('stopwords')\n",
    "from nltk.corpus import stopwords\n",
    "import operator\n",
    "# Gensim\n",
    "import gensim\n",
    "import gensim.corpora as corpora\n",
    "from gensim.utils import simple_preprocess\n",
    "from gensim.models import CoherenceModel\n",
    "from gensim.models.keyedvectors import KeyedVectors\n",
    "# spacy for lemmatization\n",
    "import spacy\n",
    "from spacy.lang.es import Spanish\n",
    "stop_words = stopwords.words('spanish')\n",
    "stop_words.extend(['i','ii','iii','iv','v','vi','vii', 'ix' , 'x' , 'xi'])"
   ]
  },
  {
   "cell_type": "code",
   "execution_count": null,
   "metadata": {},
   "outputs": [],
   "source": [
    "nlp  =  spacy.load(\"es_core_news_sm\")"
   ]
  },
  {
   "cell_type": "code",
   "execution_count": null,
   "metadata": {},
   "outputs": [],
   "source": [
    "%pip install transformers\n",
    "%pip install sentence-transformers"
   ]
  },
  {
   "cell_type": "code",
   "execution_count": null,
   "metadata": {},
   "outputs": [],
   "source": [
    "%pip3 install pytorch torchvision"
   ]
  },
  {
   "cell_type": "code",
   "execution_count": null,
   "metadata": {},
   "outputs": [],
   "source": [
    "from sentence_transformers import SentenceTransformer, models\n",
    "import torch"
   ]
  }
 ],
 "metadata": {
  "kernelspec": {
   "display_name": "Python 3",
   "language": "python",
   "name": "python3"
  },
  "language_info": {
   "codemirror_mode": {
    "name": "ipython",
    "version": 3
   },
   "file_extension": ".py",
   "mimetype": "text/x-python",
   "name": "python",
   "nbconvert_exporter": "python",
   "pygments_lexer": "ipython3",
   "version": "3.10.11"
  }
 },
 "nbformat": 4,
 "nbformat_minor": 2
}
